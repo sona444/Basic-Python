{
 "cells": [
  {
   "cell_type": "markdown",
   "id": "7c6fbb03",
   "metadata": {},
   "source": [
    "< [Pandas Operations](PythonIntroCh12.ipynb) | [Content](PythonIntro.ipynb) >"
   ]
  },
  {
   "cell_type": "markdown",
   "id": "5aa1f293",
   "metadata": {},
   "source": [
    "# 12. Numpy\n",
    "## 12.1 Introduction\n",
    "NumPy is a Python library used for working with arrays.\n",
    "It also has functions for working in domain of linear algebra, fourier transform, and matrices.<br>\n",
    "## 12.2 Why Use NumPy?\n",
    "In Python we have lists that serve the purpose of arrays, but they are slow to process.\n",
    "NumPy aims to provide an array object that is up to 50x faster than traditional Python lists.\n",
    "The array object in NumPy is called ndarray, it provides a lot of supporting functions that make working with ndarray very easy.\n",
    "Arrays are very frequently used in data science, where speed and resources are very important."
   ]
  },
  {
   "cell_type": "code",
   "execution_count": 1,
   "id": "4b159da3",
   "metadata": {},
   "outputs": [
    {
     "name": "stdout",
     "output_type": "stream",
     "text": [
      "[1 2 3 4 5]\n",
      "<class 'numpy.ndarray'>\n"
     ]
    }
   ],
   "source": [
    "## Create a NumPy array : Create a NumPy array from a list [1, 2, 3, 4, 5] and print its type.\n",
    "import numpy as np\n",
    "\n",
    "arr = np.array([1, 2, 3, 4, 5])\n",
    "print(arr)\n",
    "print(type(arr))"
   ]
  },
  {
   "cell_type": "code",
   "execution_count": null,
   "id": "8ef0295b",
   "metadata": {},
   "outputs": [],
   "source": [
    "## Create an array of zeros and ones : Create a 3x3 array of zeros and a 2x2 array of ones.\n",
    "zeros_array = np.zeros((3, 3))\n",
    "ones_array = np.ones((2, 2))\n",
    "\n",
    "print(zeros_array)\n",
    "print(ones_array)"
   ]
  },
  {
   "cell_type": "code",
   "execution_count": null,
   "id": "2fe0358e",
   "metadata": {},
   "outputs": [],
   "source": [
    "## Generate a range of numbers : Create a NumPy array of numbers from 10 to 50 with a step of 5.\n",
    "arr = np.arange(10, 51, 5)\n",
    "print(arr)"
   ]
  },
  {
   "cell_type": "code",
   "execution_count": null,
   "id": "ac2e7a43",
   "metadata": {},
   "outputs": [],
   "source": [
    "## Create a 2D array and access elements : Create a 2D NumPy array [[10, 20, 30], [40, 50, 60]] and retrieve the element 50.\n",
    "arr = np.array([[10, 20, 30], [40, 50, 60]])\n",
    "print(arr[1, 1])  # Access row index 1 and column index 1"
   ]
  },
  {
   "cell_type": "code",
   "execution_count": null,
   "id": "afadadd8",
   "metadata": {},
   "outputs": [],
   "source": [
    "## Generate a 4x4 matrix of random values between 0 and 1\n",
    "random_matrix = np.random.rand(4, 4)\n",
    "print(random_matrix)"
   ]
  },
  {
   "cell_type": "code",
   "execution_count": null,
   "id": "aa1f2392",
   "metadata": {},
   "outputs": [],
   "source": [
    "## Perform element-wise operations : Create two NumPy arrays a = [1, 2, 3] and b = [4, 5, 6], then compute their element-wise sum, difference, and product.\n",
    "a = np.array([1, 2, 3])\n",
    "b = np.array([4, 5, 6])\n",
    "\n",
    "sum_result = a + b\n",
    "diff_result = a - b\n",
    "prod_result = a * b\n",
    "\n",
    "print(\"Sum:\", sum_result)\n",
    "print(\"Difference:\", diff_result)\n",
    "print(\"Product:\", prod_result)"
   ]
  },
  {
   "cell_type": "code",
   "execution_count": null,
   "id": "fed31bd8",
   "metadata": {},
   "outputs": [],
   "source": [
    "## Reshape an array : Create a NumPy array with numbers from 1 to 9 and reshape it into a 3x3 matrix.\n",
    "arr = np.arange(1, 10).reshape(3, 3)\n",
    "print(arr)"
   ]
  },
  {
   "cell_type": "code",
   "execution_count": null,
   "id": "64df26e4",
   "metadata": {},
   "outputs": [],
   "source": [
    "## Find the mean, median, and standard deviation : Given the NumPy array arr = [10, 20, 30, 40, 50], compute the mean, median, and standard deviation.\n",
    "arr = np.array([10, 20, 30, 40, 50])\n",
    "\n",
    "mean_value = np.mean(arr)\n",
    "median_value = np.median(arr)\n",
    "std_value = np.std(arr)\n",
    "\n",
    "print(\"Mean:\", mean_value)\n",
    "print(\"Median:\", median_value)\n",
    "print(\"Standard Deviation:\", std_value)"
   ]
  },
  {
   "cell_type": "code",
   "execution_count": null,
   "id": "934105dc",
   "metadata": {},
   "outputs": [],
   "source": [
    "## Stack two arrays horizontally and vertically : \n",
    "a = np.array([[1, 2], [3, 4]])  \n",
    "b = np.array([[5, 6], [7, 8]])  \n",
    "a = np.array([[1, 2], [3, 4]])\n",
    "b = np.array([[5, 6], [7, 8]])\n",
    "\n",
    "h_stack = np.hstack((a, b))\n",
    "v_stack = np.vstack((a, b))\n",
    "\n",
    "print(\"Horizontal Stack:\\n\", h_stack)\n",
    "print(\"Vertical Stack:\\n\", v_stack)"
   ]
  },
  {
   "cell_type": "code",
   "execution_count": null,
   "id": "711f0cb8",
   "metadata": {},
   "outputs": [],
   "source": [
    "## Find unique values and their counts : Given arr = np.array([1, 2, 2, 3, 3, 3, 4, 4, 4, 4]), find the unique values and their frequency.\n",
    "\n",
    "arr = np.array([1, 2, 2, 3, 3, 3, 4, 4, 4, 4])\n",
    "unique_values, counts = np.unique(arr, return_counts=True)\n",
    "\n",
    "print(\"Unique Values:\", unique_values)\n",
    "print(\"Counts:\", counts)"
   ]
  },
  {
   "cell_type": "code",
   "execution_count": null,
   "id": "4e10b74f",
   "metadata": {},
   "outputs": [],
   "source": [
    "## Use Boolean indexing : Given arr = np.array([10, 15, 20, 25, 30]), filter out values greater than 18.\n",
    "arr = np.array([10, 15, 20, 25, 30])\n",
    "filtered_arr = arr[arr > 18]\n",
    "print(filtered_arr)"
   ]
  },
  {
   "cell_type": "code",
   "execution_count": null,
   "id": "3007985d",
   "metadata": {},
   "outputs": [],
   "source": [
    "## Compute dot product of two matrices : \n",
    "\n",
    "A = np.array([[1, 2], [3, 4]])  \n",
    "B = np.array([[5, 6], [7, 8]])  \n",
    "\n",
    "dot_product = np.dot(A, B)\n",
    "print(dot_product)"
   ]
  },
  {
   "cell_type": "code",
   "execution_count": null,
   "id": "f8b0d856",
   "metadata": {},
   "outputs": [],
   "source": [
    "## Find row-wise and column-wise sum : Given a matrix, compute the sum of elements along rows and columns.\n",
    "matrix = np.array([[1, 2, 3], [4, 5, 6], [7, 8, 9]])\n",
    "row_sum = np.sum(matrix, axis=1)\n",
    "col_sum = np.sum(matrix, axis=0)\n",
    "\n",
    "print(\"Row-wise Sum:\", row_sum)\n",
    "print(\"Column-wise Sum:\", col_sum)"
   ]
  },
  {
   "cell_type": "code",
   "execution_count": null,
   "id": "548e9ba2",
   "metadata": {},
   "outputs": [],
   "source": [
    "## Solve a system of linear equations : \n",
    "Solve the system of equations:\n",
    "\n",
    "2x + 3y = 5\n",
    "4x + y = 7"
   ]
  },
  {
   "cell_type": "code",
   "execution_count": null,
   "id": "999dd5e4",
   "metadata": {},
   "outputs": [],
   "source": []
  }
 ],
 "metadata": {
  "kernelspec": {
   "display_name": "Python 3 (ipykernel)",
   "language": "python",
   "name": "python3"
  },
  "language_info": {
   "codemirror_mode": {
    "name": "ipython",
    "version": 3
   },
   "file_extension": ".py",
   "mimetype": "text/x-python",
   "name": "python",
   "nbconvert_exporter": "python",
   "pygments_lexer": "ipython3",
   "version": "3.9.6"
  }
 },
 "nbformat": 4,
 "nbformat_minor": 5
}
