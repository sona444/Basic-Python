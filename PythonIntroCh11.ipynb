{
 "cells": [
  {
   "cell_type": "markdown",
   "id": "56afc819",
   "metadata": {},
   "source": [
    "< [Exception Handling](PythonIntroCh10.ipynb) | [DataFrame Operations](PythonIntroCh12.ipynb) >"
   ]
  },
  {
   "cell_type": "markdown",
   "id": "1cef030b",
   "metadata": {},
   "source": [
    "# 10. Pandas DataFrame\n",
    "## 10.1 Introduction\n",
    "Pandas has data structures for data analysis. The most used of these are Series and DataFrame data structures. Series is one dimensional, that is, it consists of a column. Data frame is two-dimensional, i.e. it consists of rows and columns:<br>"
   ]
  },
  {
   "cell_type": "code",
   "execution_count": null,
   "id": "549cef3a",
   "metadata": {},
   "outputs": [],
   "source": [
    "### Reading Data : Load a CSV file called \"employees.csv\" into a DataFrame and display the first 5 rows.\n",
    "import pandas as pd\n",
    "df = pd.read_csv(\"<files_path>\")\n",
    "print(df.head())"
   ]
  },
  {
   "cell_type": "code",
   "execution_count": null,
   "id": "3a200d24",
   "metadata": {},
   "outputs": [],
   "source": [
    " ##Selecting and Filtering Data : From the DataFrame below, select the rows where Age is greater than 30.\n",
    "import pandas as pd\n",
    "df = pd.DataFrame({\n",
    "    'Name': ['Alice', 'Bob', 'Charlie', 'David'],\n",
    "    'Age': [25, 30, 35, 40],\n",
    "    'Salary': [50000, 60000, 70000, 80000]\n",
    "})\n",
    "\n",
    "df_filtered = df[df['Age'] > 30]\n",
    "print(df_filtered)"
   ]
  },
  {
   "cell_type": "code",
   "execution_count": null,
   "id": "d5fe96eb",
   "metadata": {},
   "outputs": [],
   "source": [
    "## Sorting Data : Sort the DataFrame by Salary in descending order.\n",
    "df_sorted = df.sort_values(by=\"Salary\", ascending=False)\n",
    "print(df_sorted)"
   ]
  },
  {
   "cell_type": "code",
   "execution_count": null,
   "id": "eff80e5c",
   "metadata": {},
   "outputs": [],
   "source": [
    "## Grouping and Aggregation : Find the average salary of employees based on their department.\n",
    "df = pd.DataFrame({\n",
    "    'Name': ['Alice', 'Bob', 'Charlie', 'David', 'Eve'],\n",
    "    'Department': ['HR', 'IT', 'IT', 'HR', 'Finance'],\n",
    "    'Salary': [50000, 70000, 75000, 48000, 90000]\n",
    "})\n",
    "df_grouped = df.groupby('Department')['Salary'].mean()\n",
    "print(df_grouped)"
   ]
  },
  {
   "cell_type": "code",
   "execution_count": null,
   "id": "dfc4c577",
   "metadata": {},
   "outputs": [],
   "source": [
    "##Handling Missing Data : Fill missing values in the following DataFrame with the column mean.\n",
    "df = pd.DataFrame({\n",
    "    'Name': ['Alice', 'Bob', 'Charlie', 'David'],\n",
    "    'Age': [25, 30, None, 40],\n",
    "    'Salary': [50000, 60000, 70000, None]\n",
    "})\n",
    "df['Age'].fillna(df['Age'].mean(), inplace=True)\n",
    "df['Salary'].fillna(df['Salary'].mean(), inplace=True)\n",
    "print(df)"
   ]
  },
  {
   "cell_type": "code",
   "execution_count": null,
   "id": "9e78f80b",
   "metadata": {},
   "outputs": [],
   "source": [
    "## Apply Function : Create a new column \"Salary Incremented\" by increasing Salary by 10% using the apply() function\n",
    "\n",
    "df['Salary Incremented'] = df['Salary'].apply(lambda x: x * 1.1)\n",
    "print(df)"
   ]
  },
  {
   "cell_type": "code",
   "execution_count": null,
   "id": "0b8a92f3",
   "metadata": {},
   "outputs": [],
   "source": [
    "##Merging DataFrames : Merge the following two DataFrames on the \"ID\" column.\n",
    "df1 = pd.DataFrame({'ID': [1, 2, 3], 'Name': ['Alice', 'Bob', 'Charlie']})\n",
    "df2 = pd.DataFrame({'ID': [1, 2, 4], 'Salary': [50000, 60000, 70000]})\n",
    "df_merged = pd.merge(df1, df2, on=\"ID\", how=\"inner\")\n",
    "print(df_merged)"
   ]
  },
  {
   "cell_type": "code",
   "execution_count": null,
   "id": "18aaa595",
   "metadata": {},
   "outputs": [],
   "source": [
    "## Pivot Table : Create a pivot table that shows the average Salary per Department.\n",
    "df = pd.DataFrame({\n",
    "    'Name': ['Alice', 'Bob', 'Charlie', 'David', 'Eve'],\n",
    "    'Department': ['HR', 'IT', 'IT', 'HR', 'Finance'],\n",
    "    'Salary': [50000, 70000, 75000, 48000, 90000]\n",
    "})\n",
    "\n",
    "df_pivot = df.pivot_table(values=\"Salary\", index=\"Department\", aggfunc=\"mean\")\n",
    "print(df_pivot)"
   ]
  },
  {
   "cell_type": "code",
   "execution_count": null,
   "id": "35427d22",
   "metadata": {},
   "outputs": [],
   "source": [
    "## Time Series Data : Convert the \"Date\" column to a DateTime format and filter records after \"2023-01-15\".\n",
    "df = pd.DataFrame({\n",
    "    'Date': ['2023-01-01', '2023-01-10', '2023-01-20', '2023-02-01'],\n",
    "    'Sales': [100, 150, 200, 250]\n",
    "})\n",
    "df['Date'] = pd.to_datetime(df['Date'])\n",
    "df_filtered = df[df['Date'] > '2023-01-15']\n",
    "print(df_filtered)"
   ]
  },
  {
   "cell_type": "code",
   "execution_count": null,
   "id": "d8d1fbf5",
   "metadata": {},
   "outputs": [],
   "source": [
    "## Rolling Window Calculation : Calculate the 2-day moving average of Sales\n",
    "df = pd.DataFrame({\n",
    "    'Date': ['2023-01-01', '2023-01-02', '2023-01-03', '2023-01-04'],\n",
    "    'Sales': [100, 200, 300, 400]\n",
    "})\n",
    "df['Sales'] = df['Sales'].astype(float)\n",
    "df['Rolling_Avg'] = df['Sales'].rolling(window=2).mean()\n",
    "print(df)"
   ]
  },
  {
   "cell_type": "code",
   "execution_count": null,
   "id": "f759f86b",
   "metadata": {},
   "outputs": [],
   "source": [
    "## Working with JSON : Load the following JSON data into a DataFrame.\n",
    "import json\n",
    "\n",
    "data = '''\n",
    "[\n",
    "    {\"Name\": \"Alice\", \"Age\": 25, \"Salary\": 50000},\n",
    "    {\"Name\": \"Bob\", \"Age\": 30, \"Salary\": 60000}\n",
    "]\n",
    "'''\n",
    "\n",
    "df = pd.read_json(data)\n",
    "print(df)"
   ]
  },
  {
   "cell_type": "code",
   "execution_count": null,
   "id": "c8e4b5e0",
   "metadata": {},
   "outputs": [],
   "source": [
    "## Writing Data to CSV : Save a DataFrame to a CSV file called \"output.csv\"\n",
    "df.to_csv(\"output.csv\", index=False)"
   ]
  },
  {
   "cell_type": "code",
   "execution_count": null,
   "id": "0b312f49",
   "metadata": {},
   "outputs": [],
   "source": [
    "## One-Hot Encoding :Perform one-hot encoding on the \"Department\" column.\n",
    "df = pd.DataFrame({\n",
    "    'Name': ['Alice', 'Bob', 'Charlie'],\n",
    "    'Department': ['HR', 'IT', 'Finance']\n",
    "})\n",
    "df_encoded = pd.get_dummies(df, columns=['Department'])\n",
    "print(df_encoded)"
   ]
  },
  {
   "cell_type": "code",
   "execution_count": null,
   "id": "ba6707db",
   "metadata": {},
   "outputs": [],
   "source": [
    "## SQL Query on DataFrame : Write an SQL query to select employees whose salary is greater than 60,000 using pandasql.\n",
    "from pandasql import sqldf\n",
    "query = \"SELECT * FROM df WHERE Salary > 60000\"\n",
    "df_filtered = sqldf(query, locals())\n",
    "print(df_filtered)"
   ]
  }
 ],
 "metadata": {
  "kernelspec": {
   "display_name": "Python 3 (ipykernel)",
   "language": "python",
   "name": "python3"
  },
  "language_info": {
   "codemirror_mode": {
    "name": "ipython",
    "version": 3
   },
   "file_extension": ".py",
   "mimetype": "text/x-python",
   "name": "python",
   "nbconvert_exporter": "python",
   "pygments_lexer": "ipython3",
   "version": "3.9.6"
  }
 },
 "nbformat": 4,
 "nbformat_minor": 5
}
