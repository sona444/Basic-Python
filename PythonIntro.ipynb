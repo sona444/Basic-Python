{
 "cells": [
  {
   "cell_type": "markdown",
   "metadata": {},
   "source": [
    "## Contents\n",
    "### __[Lesson 1: Very Simple Programs](PythonIntroCh1.ipynb)__\n",
    "### __[Lesson 2: Programs in a file, variables and strings](PythonIntroCh2.ipynb)__\n",
    "### __[Lesson 3: Loops, Loops, Loops, Loops...](PythonIntroCh3.ipynb)__\n",
    "### __[Lesson 4: Functions](PythonIntroCh4.ipynb)__\n",
    "### __[Lesson 5: Tuples, Lists, and Dictionaries](PythonIntroCh5.ipynb)__\n",
    "### __[Lesson 6: For Loop](PythonIntroCh6.ipynb)__\n",
    "### __[Lesson 7: Classes](PythonIntroCh7.ipynb)__\n",
    "### __[Lesson 8: Modules](PythonIntroCh8.ipynb)__\n",
    "### __[Lesson 9: File I/O](PythonIntroCh9.ipynb)__\n",
    "### __[Lesson 10: Exception Handling](PythonIntroCh10.ipynb)__\n",
    "<br>\n",
    "<br>"
   ]
  }
 ],
 "metadata": {
  "kernelspec": {
   "display_name": "Python 3",
   "language": "python",
   "name": "python3"
  },
  "language_info": {
   "codemirror_mode": {
    "name": "ipython",
    "version": 3
   },
   "file_extension": ".py",
   "mimetype": "text/x-python",
   "name": "python",
   "nbconvert_exporter": "python",
   "pygments_lexer": "ipython3",
   "version": "3.6.5"
  }
 },
 "nbformat": 4,
 "nbformat_minor": 2
}
